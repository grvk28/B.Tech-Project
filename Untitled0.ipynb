{
  "nbformat": 4,
  "nbformat_minor": 0,
  "metadata": {
    "colab": {
      "name": "Untitled0.ipynb",
      "provenance": [],
      "collapsed_sections": [],
      "authorship_tag": "ABX9TyOTF1UiUfKHQB80u5ZhzjML",
      "include_colab_link": true
    },
    "kernelspec": {
      "name": "python3",
      "display_name": "Python 3"
    }
  },
  "cells": [
    {
      "cell_type": "markdown",
      "metadata": {
        "id": "view-in-github",
        "colab_type": "text"
      },
      "source": [
        "<a href=\"https://colab.research.google.com/github/grvk28/B.Tech-Project/blob/master/Untitled0.ipynb\" target=\"_parent\"><img src=\"https://colab.research.google.com/assets/colab-badge.svg\" alt=\"Open In Colab\"/></a>"
      ]
    },
    {
      "cell_type": "markdown",
      "metadata": {
        "id": "Rvvh3X-72HSZ"
      },
      "source": [
        "italicised text"
      ]
    },
    {
      "cell_type": "code",
      "metadata": {
        "id": "A6ihoicg2Kue"
      },
      "source": [
        ""
      ],
      "execution_count": null,
      "outputs": []
    },
    {
      "cell_type": "code",
      "metadata": {
        "id": "eFUKZOJgSwdJ"
      },
      "source": [
        "from pandas import read_csv\n"
      ],
      "execution_count": null,
      "outputs": []
    },
    {
      "cell_type": "code",
      "metadata": {
        "id": "H8ax91yC0qn2"
      },
      "source": [
        "from numpy import where"
      ],
      "execution_count": null,
      "outputs": []
    },
    {
      "cell_type": "code",
      "metadata": {
        "id": "EKZwmdXW16we"
      },
      "source": [
        "from collections import Counter"
      ],
      "execution_count": null,
      "outputs": []
    },
    {
      "cell_type": "code",
      "metadata": {
        "id": "1hxjxXh52qaX"
      },
      "source": [
        "from sklearn.datasets import make_blobs\n",
        "from matplotlib import pyplot"
      ],
      "execution_count": null,
      "outputs": []
    },
    {
      "cell_type": "markdown",
      "metadata": {
        "id": "TquoyRYS2Kvm"
      },
      "source": [
        "X,y = make_blobs(n_samples=1000, centers=2, random_state=1)"
      ]
    },
    {
      "cell_type": "code",
      "metadata": {
        "colab": {
          "base_uri": "https://localhost:8080/"
        },
        "id": "Ko1dtSnV3XYf",
        "outputId": "829e7118-c1ae-4d6f-fddc-31371ca4f5b5"
      },
      "source": [
        "print(X.shape,y.shape)"
      ],
      "execution_count": null,
      "outputs": [
        {
          "output_type": "stream",
          "text": [
            "(1000, 2) (1000,)\n"
          ],
          "name": "stdout"
        }
      ]
    },
    {
      "cell_type": "code",
      "metadata": {
        "id": "CwcfofzR33iE"
      },
      "source": [
        "counter =Counter(y)"
      ],
      "execution_count": null,
      "outputs": []
    },
    {
      "cell_type": "code",
      "metadata": {
        "colab": {
          "base_uri": "https://localhost:8080/"
        },
        "id": "BbMbYxw_4guh",
        "outputId": "e29665c2-0f52-49ad-8aac-2e2c762b5707"
      },
      "source": [
        "print(counter)"
      ],
      "execution_count": null,
      "outputs": [
        {
          "output_type": "stream",
          "text": [
            "Counter({0: 500, 1: 500})\n"
          ],
          "name": "stdout"
        }
      ]
    },
    {
      "cell_type": "markdown",
      "metadata": {
        "id": "r8H8rrAh4i1m"
      },
      "source": [
        "for i in range(10):\n",
        "  print(X[i],y[i])"
      ]
    },
    {
      "cell_type": "code",
      "metadata": {
        "colab": {
          "base_uri": "https://localhost:8080/"
        },
        "id": "88Tm5a1_4ysi",
        "outputId": "81a6a8c9-4691-4c74-b6e8-13f534df57c5"
      },
      "source": [
        "for i in range(10):\n",
        "   print(X[i],y[i])"
      ],
      "execution_count": null,
      "outputs": [
        {
          "output_type": "stream",
          "text": [
            "[-3.05837272  4.48825769] 0\n",
            "[-8.60973869 -3.72714879] 1\n",
            "[1.37129721 5.23107449] 0\n",
            "[-9.33917563 -2.9544469 ] 1\n",
            "[-11.57178593  -3.85275513] 1\n",
            "[-11.42257341  -4.85679127] 1\n",
            "[-10.44518578  -3.76476563] 1\n",
            "[-10.44603561  -3.26065964] 1\n",
            "[-0.61947075  3.48804983] 0\n",
            "[-10.91115591  -4.5772537 ] 1\n"
          ],
          "name": "stdout"
        }
      ]
    },
    {
      "cell_type": "markdown",
      "metadata": {
        "id": "X5AAZqpi49U2"
      },
      "source": [
        "for label, _ in counter.items():\n",
        "  row_ix = where(y == label)[0]\n",
        "  pyplot.scatter(X[row_ix, 0], X[row_ix, 1], label=str(label))"
      ]
    },
    {
      "cell_type": "code",
      "metadata": {
        "colab": {
          "base_uri": "https://localhost:8080/",
          "height": 265
        },
        "id": "zY5M6brw5UM-",
        "outputId": "e6270eef-6078-423e-ff62-9b7828b75143"
      },
      "source": [
        "for label, _ in counter.items(): \n",
        "  row_ix = where(y == label)[0] \n",
        "  pyplot.scatter(X[row_ix, 0], X[row_ix, 1], label=str(label))\n",
        "pyplot.legend()\n",
        "pyplot.show()"
      ],
      "execution_count": null,
      "outputs": [
        {
          "output_type": "display_data",
          "data": {
            "image/png": "[encoded data removed]",
            "text/plain": [
              "<Figure size 432x288 with 1 Axes>"
            ]
          },
          "metadata": {
            "tags": [],
            "needs_background": "light"
          }
        }
      ]
    },
    {
      "cell_type": "markdown",
      "metadata": {
        "id": "I4FtA5fM4VJA"
      },
      "source": [
        "print(counter)"
      ]
    }
  ]
}